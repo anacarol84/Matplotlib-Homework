{
 "cells": [
  {
   "cell_type": "code",
   "execution_count": 97,
   "id": "1cd56f04",
   "metadata": {},
   "outputs": [],
   "source": [
    "import matplotlib.pyplot as plt\n",
    "import numpy as np\n",
    "import scipy.stats as st\n",
    "from scipy.stats import linregress \n",
    "import pandas as pd"
   ]
  },
  {
   "cell_type": "code",
   "execution_count": 98,
   "id": "1e0d18ed",
   "metadata": {},
   "outputs": [
    {
     "data": {
      "text/html": [
       "<div>\n",
       "<style scoped>\n",
       "    .dataframe tbody tr th:only-of-type {\n",
       "        vertical-align: middle;\n",
       "    }\n",
       "\n",
       "    .dataframe tbody tr th {\n",
       "        vertical-align: top;\n",
       "    }\n",
       "\n",
       "    .dataframe thead th {\n",
       "        text-align: right;\n",
       "    }\n",
       "</style>\n",
       "<table border=\"1\" class=\"dataframe\">\n",
       "  <thead>\n",
       "    <tr style=\"text-align: right;\">\n",
       "      <th></th>\n",
       "      <th>Mouse ID</th>\n",
       "      <th>Drug Regimen</th>\n",
       "      <th>Sex</th>\n",
       "      <th>Age_months</th>\n",
       "      <th>Weight (g)</th>\n",
       "    </tr>\n",
       "  </thead>\n",
       "  <tbody>\n",
       "    <tr>\n",
       "      <th>0</th>\n",
       "      <td>k403</td>\n",
       "      <td>Ramicane</td>\n",
       "      <td>Male</td>\n",
       "      <td>21</td>\n",
       "      <td>16</td>\n",
       "    </tr>\n",
       "    <tr>\n",
       "      <th>1</th>\n",
       "      <td>s185</td>\n",
       "      <td>Capomulin</td>\n",
       "      <td>Female</td>\n",
       "      <td>3</td>\n",
       "      <td>17</td>\n",
       "    </tr>\n",
       "    <tr>\n",
       "      <th>2</th>\n",
       "      <td>x401</td>\n",
       "      <td>Capomulin</td>\n",
       "      <td>Female</td>\n",
       "      <td>16</td>\n",
       "      <td>15</td>\n",
       "    </tr>\n",
       "    <tr>\n",
       "      <th>3</th>\n",
       "      <td>m601</td>\n",
       "      <td>Capomulin</td>\n",
       "      <td>Male</td>\n",
       "      <td>22</td>\n",
       "      <td>17</td>\n",
       "    </tr>\n",
       "    <tr>\n",
       "      <th>4</th>\n",
       "      <td>g791</td>\n",
       "      <td>Ramicane</td>\n",
       "      <td>Male</td>\n",
       "      <td>11</td>\n",
       "      <td>16</td>\n",
       "    </tr>\n",
       "  </tbody>\n",
       "</table>\n",
       "</div>"
      ],
      "text/plain": [
       "  Mouse ID Drug Regimen     Sex  Age_months  Weight (g)\n",
       "0     k403     Ramicane    Male          21          16\n",
       "1     s185    Capomulin  Female           3          17\n",
       "2     x401    Capomulin  Female          16          15\n",
       "3     m601    Capomulin    Male          22          17\n",
       "4     g791     Ramicane    Male          11          16"
      ]
     },
     "execution_count": 98,
     "metadata": {},
     "output_type": "execute_result"
    }
   ],
   "source": [
    "df_mouse_metadata = pd.read_csv(\"02-Homework/05-Matplotlib/Instructions/Pymaceuticals/data/Mouse_metadata.csv\")\n",
    "df_mouse_metadata.head()"
   ]
  },
  {
   "cell_type": "code",
   "execution_count": 99,
   "id": "2f30f885",
   "metadata": {},
   "outputs": [
    {
     "data": {
      "text/html": [
       "<div>\n",
       "<style scoped>\n",
       "    .dataframe tbody tr th:only-of-type {\n",
       "        vertical-align: middle;\n",
       "    }\n",
       "\n",
       "    .dataframe tbody tr th {\n",
       "        vertical-align: top;\n",
       "    }\n",
       "\n",
       "    .dataframe thead th {\n",
       "        text-align: right;\n",
       "    }\n",
       "</style>\n",
       "<table border=\"1\" class=\"dataframe\">\n",
       "  <thead>\n",
       "    <tr style=\"text-align: right;\">\n",
       "      <th></th>\n",
       "      <th>Mouse ID</th>\n",
       "      <th>Timepoint</th>\n",
       "      <th>Tumor Volume (mm3)</th>\n",
       "      <th>Metastatic Sites</th>\n",
       "    </tr>\n",
       "  </thead>\n",
       "  <tbody>\n",
       "    <tr>\n",
       "      <th>0</th>\n",
       "      <td>b128</td>\n",
       "      <td>0</td>\n",
       "      <td>45.0</td>\n",
       "      <td>0</td>\n",
       "    </tr>\n",
       "    <tr>\n",
       "      <th>1</th>\n",
       "      <td>f932</td>\n",
       "      <td>0</td>\n",
       "      <td>45.0</td>\n",
       "      <td>0</td>\n",
       "    </tr>\n",
       "    <tr>\n",
       "      <th>2</th>\n",
       "      <td>g107</td>\n",
       "      <td>0</td>\n",
       "      <td>45.0</td>\n",
       "      <td>0</td>\n",
       "    </tr>\n",
       "    <tr>\n",
       "      <th>3</th>\n",
       "      <td>a457</td>\n",
       "      <td>0</td>\n",
       "      <td>45.0</td>\n",
       "      <td>0</td>\n",
       "    </tr>\n",
       "    <tr>\n",
       "      <th>4</th>\n",
       "      <td>c819</td>\n",
       "      <td>0</td>\n",
       "      <td>45.0</td>\n",
       "      <td>0</td>\n",
       "    </tr>\n",
       "  </tbody>\n",
       "</table>\n",
       "</div>"
      ],
      "text/plain": [
       "  Mouse ID  Timepoint  Tumor Volume (mm3)  Metastatic Sites\n",
       "0     b128          0                45.0                 0\n",
       "1     f932          0                45.0                 0\n",
       "2     g107          0                45.0                 0\n",
       "3     a457          0                45.0                 0\n",
       "4     c819          0                45.0                 0"
      ]
     },
     "execution_count": 99,
     "metadata": {},
     "output_type": "execute_result"
    }
   ],
   "source": [
    "#read files\n",
    "\n",
    "df_study_results = pd.read_csv(\"02-Homework/05-Matplotlib/Instructions/Pymaceuticals/data/Study_results.csv\")\n",
    "df_study_results.head()"
   ]
  },
  {
   "cell_type": "code",
   "execution_count": 100,
   "id": "c6bf7b13",
   "metadata": {},
   "outputs": [
    {
     "data": {
      "text/html": [
       "<div>\n",
       "<style scoped>\n",
       "    .dataframe tbody tr th:only-of-type {\n",
       "        vertical-align: middle;\n",
       "    }\n",
       "\n",
       "    .dataframe tbody tr th {\n",
       "        vertical-align: top;\n",
       "    }\n",
       "\n",
       "    .dataframe thead th {\n",
       "        text-align: right;\n",
       "    }\n",
       "</style>\n",
       "<table border=\"1\" class=\"dataframe\">\n",
       "  <thead>\n",
       "    <tr style=\"text-align: right;\">\n",
       "      <th></th>\n",
       "      <th>Mouse ID</th>\n",
       "      <th>Drug Regimen</th>\n",
       "      <th>Sex</th>\n",
       "      <th>Age_months</th>\n",
       "      <th>Weight (g)</th>\n",
       "      <th>Timepoint</th>\n",
       "      <th>Tumor Volume (mm3)</th>\n",
       "      <th>Metastatic Sites</th>\n",
       "    </tr>\n",
       "  </thead>\n",
       "  <tbody>\n",
       "    <tr>\n",
       "      <th>0</th>\n",
       "      <td>k403</td>\n",
       "      <td>Ramicane</td>\n",
       "      <td>Male</td>\n",
       "      <td>21</td>\n",
       "      <td>16</td>\n",
       "      <td>0</td>\n",
       "      <td>45.000000</td>\n",
       "      <td>0</td>\n",
       "    </tr>\n",
       "    <tr>\n",
       "      <th>1</th>\n",
       "      <td>k403</td>\n",
       "      <td>Ramicane</td>\n",
       "      <td>Male</td>\n",
       "      <td>21</td>\n",
       "      <td>16</td>\n",
       "      <td>5</td>\n",
       "      <td>38.825898</td>\n",
       "      <td>0</td>\n",
       "    </tr>\n",
       "    <tr>\n",
       "      <th>2</th>\n",
       "      <td>k403</td>\n",
       "      <td>Ramicane</td>\n",
       "      <td>Male</td>\n",
       "      <td>21</td>\n",
       "      <td>16</td>\n",
       "      <td>10</td>\n",
       "      <td>35.014271</td>\n",
       "      <td>1</td>\n",
       "    </tr>\n",
       "    <tr>\n",
       "      <th>3</th>\n",
       "      <td>k403</td>\n",
       "      <td>Ramicane</td>\n",
       "      <td>Male</td>\n",
       "      <td>21</td>\n",
       "      <td>16</td>\n",
       "      <td>15</td>\n",
       "      <td>34.223992</td>\n",
       "      <td>1</td>\n",
       "    </tr>\n",
       "    <tr>\n",
       "      <th>4</th>\n",
       "      <td>k403</td>\n",
       "      <td>Ramicane</td>\n",
       "      <td>Male</td>\n",
       "      <td>21</td>\n",
       "      <td>16</td>\n",
       "      <td>20</td>\n",
       "      <td>32.997729</td>\n",
       "      <td>1</td>\n",
       "    </tr>\n",
       "  </tbody>\n",
       "</table>\n",
       "</div>"
      ],
      "text/plain": [
       "  Mouse ID Drug Regimen   Sex  Age_months  Weight (g)  Timepoint  \\\n",
       "0     k403     Ramicane  Male          21          16          0   \n",
       "1     k403     Ramicane  Male          21          16          5   \n",
       "2     k403     Ramicane  Male          21          16         10   \n",
       "3     k403     Ramicane  Male          21          16         15   \n",
       "4     k403     Ramicane  Male          21          16         20   \n",
       "\n",
       "   Tumor Volume (mm3)  Metastatic Sites  \n",
       "0           45.000000                 0  \n",
       "1           38.825898                 0  \n",
       "2           35.014271                 1  \n",
       "3           34.223992                 1  \n",
       "4           32.997729                 1  "
      ]
     },
     "execution_count": 100,
     "metadata": {},
     "output_type": "execute_result"
    }
   ],
   "source": [
    "#merge 2 files\n",
    "\n",
    "merged_data = pd.merge(df_mouse_metadata, df_study_results, on=\"Mouse ID\")\n",
    "merged_data.head()"
   ]
  },
  {
   "cell_type": "code",
   "execution_count": 101,
   "id": "882253a0",
   "metadata": {},
   "outputs": [],
   "source": [
    "#merged_data.duplicated()"
   ]
  },
  {
   "cell_type": "code",
   "execution_count": 102,
   "id": "12eb6aff",
   "metadata": {},
   "outputs": [],
   "source": [
    "#merged_data.duplicated().sum()"
   ]
  },
  {
   "cell_type": "code",
   "execution_count": 103,
   "id": "ee92c290",
   "metadata": {},
   "outputs": [
    {
     "data": {
      "text/plain": [
       "1893"
      ]
     },
     "execution_count": 103,
     "metadata": {},
     "output_type": "execute_result"
    }
   ],
   "source": [
    "len(merged_data)"
   ]
  },
  {
   "cell_type": "code",
   "execution_count": 104,
   "id": "631909d4",
   "metadata": {},
   "outputs": [
    {
     "data": {
      "text/html": [
       "<div>\n",
       "<style scoped>\n",
       "    .dataframe tbody tr th:only-of-type {\n",
       "        vertical-align: middle;\n",
       "    }\n",
       "\n",
       "    .dataframe tbody tr th {\n",
       "        vertical-align: top;\n",
       "    }\n",
       "\n",
       "    .dataframe thead th {\n",
       "        text-align: right;\n",
       "    }\n",
       "</style>\n",
       "<table border=\"1\" class=\"dataframe\">\n",
       "  <thead>\n",
       "    <tr style=\"text-align: right;\">\n",
       "      <th></th>\n",
       "      <th>Mouse ID</th>\n",
       "      <th>Drug Regimen</th>\n",
       "      <th>Sex</th>\n",
       "      <th>Age_months</th>\n",
       "      <th>Weight (g)</th>\n",
       "      <th>Timepoint</th>\n",
       "      <th>Tumor Volume (mm3)</th>\n",
       "      <th>Metastatic Sites</th>\n",
       "    </tr>\n",
       "  </thead>\n",
       "  <tbody>\n",
       "    <tr>\n",
       "      <th>909</th>\n",
       "      <td>g989</td>\n",
       "      <td>Propriva</td>\n",
       "      <td>Female</td>\n",
       "      <td>21</td>\n",
       "      <td>26</td>\n",
       "      <td>0</td>\n",
       "      <td>45.000000</td>\n",
       "      <td>0</td>\n",
       "    </tr>\n",
       "    <tr>\n",
       "      <th>911</th>\n",
       "      <td>g989</td>\n",
       "      <td>Propriva</td>\n",
       "      <td>Female</td>\n",
       "      <td>21</td>\n",
       "      <td>26</td>\n",
       "      <td>5</td>\n",
       "      <td>47.570392</td>\n",
       "      <td>0</td>\n",
       "    </tr>\n",
       "    <tr>\n",
       "      <th>913</th>\n",
       "      <td>g989</td>\n",
       "      <td>Propriva</td>\n",
       "      <td>Female</td>\n",
       "      <td>21</td>\n",
       "      <td>26</td>\n",
       "      <td>10</td>\n",
       "      <td>49.880528</td>\n",
       "      <td>0</td>\n",
       "    </tr>\n",
       "    <tr>\n",
       "      <th>915</th>\n",
       "      <td>g989</td>\n",
       "      <td>Propriva</td>\n",
       "      <td>Female</td>\n",
       "      <td>21</td>\n",
       "      <td>26</td>\n",
       "      <td>15</td>\n",
       "      <td>53.442020</td>\n",
       "      <td>0</td>\n",
       "    </tr>\n",
       "    <tr>\n",
       "      <th>917</th>\n",
       "      <td>g989</td>\n",
       "      <td>Propriva</td>\n",
       "      <td>Female</td>\n",
       "      <td>21</td>\n",
       "      <td>26</td>\n",
       "      <td>20</td>\n",
       "      <td>54.657650</td>\n",
       "      <td>1</td>\n",
       "    </tr>\n",
       "  </tbody>\n",
       "</table>\n",
       "</div>"
      ],
      "text/plain": [
       "    Mouse ID Drug Regimen     Sex  Age_months  Weight (g)  Timepoint  \\\n",
       "909     g989     Propriva  Female          21          26          0   \n",
       "911     g989     Propriva  Female          21          26          5   \n",
       "913     g989     Propriva  Female          21          26         10   \n",
       "915     g989     Propriva  Female          21          26         15   \n",
       "917     g989     Propriva  Female          21          26         20   \n",
       "\n",
       "     Tumor Volume (mm3)  Metastatic Sites  \n",
       "909           45.000000                 0  \n",
       "911           47.570392                 0  \n",
       "913           49.880528                 0  \n",
       "915           53.442020                 0  \n",
       "917           54.657650                 1  "
      ]
     },
     "execution_count": 104,
     "metadata": {},
     "output_type": "execute_result"
    }
   ],
   "source": [
    "#find duplicates\n",
    "\n",
    "duplicate_mice = merged_data[merged_data.duplicated(['Mouse ID', 'Timepoint'])]\n",
    "duplicate_mice.head()"
   ]
  },
  {
   "cell_type": "code",
   "execution_count": 105,
   "id": "3f9927a7",
   "metadata": {},
   "outputs": [
    {
     "data": {
      "text/plain": [
       "Mouse ID              5\n",
       "Drug Regimen          5\n",
       "Sex                   5\n",
       "Age_months            5\n",
       "Weight (g)            5\n",
       "Timepoint             5\n",
       "Tumor Volume (mm3)    5\n",
       "Metastatic Sites      5\n",
       "dtype: int64"
      ]
     },
     "execution_count": 105,
     "metadata": {},
     "output_type": "execute_result"
    }
   ],
   "source": [
    "duplicate_mice.count()"
   ]
  },
  {
   "cell_type": "code",
   "execution_count": 106,
   "id": "4a8c457a",
   "metadata": {},
   "outputs": [],
   "source": [
    "merged_data.drop(merged_data[merged_data['Mouse ID']== 'g989'].index, inplace=True)"
   ]
  },
  {
   "cell_type": "code",
   "execution_count": 107,
   "id": "98850a1e",
   "metadata": {},
   "outputs": [
    {
     "data": {
      "text/plain": [
       "1880"
      ]
     },
     "execution_count": 107,
     "metadata": {},
     "output_type": "execute_result"
    }
   ],
   "source": [
    "len(merged_data)"
   ]
  },
  {
   "cell_type": "code",
   "execution_count": 108,
   "id": "c8a7cd0a",
   "metadata": {},
   "outputs": [
    {
     "data": {
      "image/png": "[encoded data removed]",
      "text/plain": [
       "<Figure size 432x288 with 1 Axes>"
      ]
     },
     "metadata": {
      "needs_background": "light"
     },
     "output_type": "display_data"
    }
   ],
   "source": [
    "plt.hist(merged_data[\"Tumor Volume (mm3)\"])\n",
    "plt.show()"
   ]
  },
  {
   "cell_type": "code",
   "execution_count": 109,
   "id": "1804c2db",
   "metadata": {},
   "outputs": [],
   "source": [
    "#Generate a summary statistics table of the tumour volume for each drug regimen.\n",
    "\n",
    "tumour_volume_mean = merged_data.groupby('Drug Regimen').mean()['Tumor Volume (mm3)']\n",
    "tumour_volume_median = merged_data.groupby('Drug Regimen').median()['Tumor Volume (mm3)']\n",
    "tumour_volume_std = merged_data.groupby('Drug Regimen').std()['Tumor Volume (mm3)']\n",
    "tumour_volume_var = merged_data.groupby('Drug Regimen').var()['Tumor Volume (mm3)']\n",
    "tumour_volume_sem = merged_data.groupby('Drug Regimen').sem()['Tumor Volume (mm3)']\n",
    "#print(tumour_volume_mean)\n",
    "#print(tumour_volume_median)\n",
    "#print(tumour_volume_std)\n",
    "#print(tumour_volume_var)\n",
    "#print(tumour_volume_sem)"
   ]
  },
  {
   "cell_type": "code",
   "execution_count": 110,
   "id": "d00cf92a",
   "metadata": {},
   "outputs": [
    {
     "data": {
      "text/html": [
       "<div>\n",
       "<style scoped>\n",
       "    .dataframe tbody tr th:only-of-type {\n",
       "        vertical-align: middle;\n",
       "    }\n",
       "\n",
       "    .dataframe tbody tr th {\n",
       "        vertical-align: top;\n",
       "    }\n",
       "\n",
       "    .dataframe thead th {\n",
       "        text-align: right;\n",
       "    }\n",
       "</style>\n",
       "<table border=\"1\" class=\"dataframe\">\n",
       "  <thead>\n",
       "    <tr style=\"text-align: right;\">\n",
       "      <th></th>\n",
       "      <th>Tumor Volume (mm3)</th>\n",
       "      <th>tumour_volume_median</th>\n",
       "      <th>tumour_volume_std</th>\n",
       "      <th>tumour_volume_var</th>\n",
       "      <th>tumour_volume_sem</th>\n",
       "    </tr>\n",
       "    <tr>\n",
       "      <th>Drug Regimen</th>\n",
       "      <th></th>\n",
       "      <th></th>\n",
       "      <th></th>\n",
       "      <th></th>\n",
       "      <th></th>\n",
       "    </tr>\n",
       "  </thead>\n",
       "  <tbody>\n",
       "    <tr>\n",
       "      <th>Capomulin</th>\n",
       "      <td>40.675741</td>\n",
       "      <td>41.557809</td>\n",
       "      <td>4.994774</td>\n",
       "      <td>24.947764</td>\n",
       "      <td>0.329346</td>\n",
       "    </tr>\n",
       "    <tr>\n",
       "      <th>Ceftamin</th>\n",
       "      <td>52.591172</td>\n",
       "      <td>51.776157</td>\n",
       "      <td>6.268188</td>\n",
       "      <td>39.290177</td>\n",
       "      <td>0.469821</td>\n",
       "    </tr>\n",
       "    <tr>\n",
       "      <th>Infubinol</th>\n",
       "      <td>52.884795</td>\n",
       "      <td>51.820584</td>\n",
       "      <td>6.567243</td>\n",
       "      <td>43.128684</td>\n",
       "      <td>0.492236</td>\n",
       "    </tr>\n",
       "    <tr>\n",
       "      <th>Ketapril</th>\n",
       "      <td>55.235638</td>\n",
       "      <td>53.698743</td>\n",
       "      <td>8.279709</td>\n",
       "      <td>68.553577</td>\n",
       "      <td>0.603860</td>\n",
       "    </tr>\n",
       "    <tr>\n",
       "      <th>Naftisol</th>\n",
       "      <td>54.331565</td>\n",
       "      <td>52.509285</td>\n",
       "      <td>8.134708</td>\n",
       "      <td>66.173479</td>\n",
       "      <td>0.596466</td>\n",
       "    </tr>\n",
       "    <tr>\n",
       "      <th>Placebo</th>\n",
       "      <td>54.033581</td>\n",
       "      <td>52.288934</td>\n",
       "      <td>7.821003</td>\n",
       "      <td>61.168083</td>\n",
       "      <td>0.581331</td>\n",
       "    </tr>\n",
       "    <tr>\n",
       "      <th>Propriva</th>\n",
       "      <td>52.320930</td>\n",
       "      <td>50.446266</td>\n",
       "      <td>6.622085</td>\n",
       "      <td>43.852013</td>\n",
       "      <td>0.544332</td>\n",
       "    </tr>\n",
       "    <tr>\n",
       "      <th>Ramicane</th>\n",
       "      <td>40.216745</td>\n",
       "      <td>40.673236</td>\n",
       "      <td>4.846308</td>\n",
       "      <td>23.486704</td>\n",
       "      <td>0.320955</td>\n",
       "    </tr>\n",
       "    <tr>\n",
       "      <th>Stelasyn</th>\n",
       "      <td>54.233149</td>\n",
       "      <td>52.431737</td>\n",
       "      <td>7.710419</td>\n",
       "      <td>59.450562</td>\n",
       "      <td>0.573111</td>\n",
       "    </tr>\n",
       "    <tr>\n",
       "      <th>Zoniferol</th>\n",
       "      <td>53.236507</td>\n",
       "      <td>51.818479</td>\n",
       "      <td>6.966589</td>\n",
       "      <td>48.533355</td>\n",
       "      <td>0.516398</td>\n",
       "    </tr>\n",
       "  </tbody>\n",
       "</table>\n",
       "</div>"
      ],
      "text/plain": [
       "              Tumor Volume (mm3)  tumour_volume_median  tumour_volume_std  \\\n",
       "Drug Regimen                                                                \n",
       "Capomulin              40.675741             41.557809           4.994774   \n",
       "Ceftamin               52.591172             51.776157           6.268188   \n",
       "Infubinol              52.884795             51.820584           6.567243   \n",
       "Ketapril               55.235638             53.698743           8.279709   \n",
       "Naftisol               54.331565             52.509285           8.134708   \n",
       "Placebo                54.033581             52.288934           7.821003   \n",
       "Propriva               52.320930             50.446266           6.622085   \n",
       "Ramicane               40.216745             40.673236           4.846308   \n",
       "Stelasyn               54.233149             52.431737           7.710419   \n",
       "Zoniferol              53.236507             51.818479           6.966589   \n",
       "\n",
       "              tumour_volume_var  tumour_volume_sem  \n",
       "Drug Regimen                                        \n",
       "Capomulin             24.947764           0.329346  \n",
       "Ceftamin              39.290177           0.469821  \n",
       "Infubinol             43.128684           0.492236  \n",
       "Ketapril              68.553577           0.603860  \n",
       "Naftisol              66.173479           0.596466  \n",
       "Placebo               61.168083           0.581331  \n",
       "Propriva              43.852013           0.544332  \n",
       "Ramicane              23.486704           0.320955  \n",
       "Stelasyn              59.450562           0.573111  \n",
       "Zoniferol             48.533355           0.516398  "
      ]
     },
     "execution_count": 110,
     "metadata": {},
     "output_type": "execute_result"
    }
   ],
   "source": [
    "#create a summary statistic table\n",
    "\n",
    "summary_statistics_table_df=pd.DataFrame(tumour_volume_mean)\n",
    "summary_statistics_table_df['tumour_volume_median']=tumour_volume_median\n",
    "summary_statistics_table_df['tumour_volume_std']=tumour_volume_std\n",
    "summary_statistics_table_df['tumour_volume_var']=tumour_volume_var\n",
    "summary_statistics_table_df['tumour_volume_sem']=tumour_volume_sem\n",
    "\n",
    "summary_statistics_table_df   "
   ]
  },
  {
   "cell_type": "code",
   "execution_count": 111,
   "id": "884323cd",
   "metadata": {},
   "outputs": [
    {
     "data": {
      "text/html": [
       "<div>\n",
       "<style scoped>\n",
       "    .dataframe tbody tr th:only-of-type {\n",
       "        vertical-align: middle;\n",
       "    }\n",
       "\n",
       "    .dataframe tbody tr th {\n",
       "        vertical-align: top;\n",
       "    }\n",
       "\n",
       "    .dataframe thead th {\n",
       "        text-align: right;\n",
       "    }\n",
       "</style>\n",
       "<table border=\"1\" class=\"dataframe\">\n",
       "  <thead>\n",
       "    <tr style=\"text-align: right;\">\n",
       "      <th></th>\n",
       "      <th>Tumor Volume Mean</th>\n",
       "      <th>tumour_volume_median</th>\n",
       "      <th>tumour_volume_std</th>\n",
       "      <th>tumour_volume_var</th>\n",
       "      <th>tumour_volume_sem</th>\n",
       "    </tr>\n",
       "    <tr>\n",
       "      <th>Drug Regimen</th>\n",
       "      <th></th>\n",
       "      <th></th>\n",
       "      <th></th>\n",
       "      <th></th>\n",
       "      <th></th>\n",
       "    </tr>\n",
       "  </thead>\n",
       "  <tbody>\n",
       "    <tr>\n",
       "      <th>Capomulin</th>\n",
       "      <td>40.675741</td>\n",
       "      <td>41.557809</td>\n",
       "      <td>4.994774</td>\n",
       "      <td>24.947764</td>\n",
       "      <td>0.329346</td>\n",
       "    </tr>\n",
       "    <tr>\n",
       "      <th>Ceftamin</th>\n",
       "      <td>52.591172</td>\n",
       "      <td>51.776157</td>\n",
       "      <td>6.268188</td>\n",
       "      <td>39.290177</td>\n",
       "      <td>0.469821</td>\n",
       "    </tr>\n",
       "    <tr>\n",
       "      <th>Infubinol</th>\n",
       "      <td>52.884795</td>\n",
       "      <td>51.820584</td>\n",
       "      <td>6.567243</td>\n",
       "      <td>43.128684</td>\n",
       "      <td>0.492236</td>\n",
       "    </tr>\n",
       "    <tr>\n",
       "      <th>Ketapril</th>\n",
       "      <td>55.235638</td>\n",
       "      <td>53.698743</td>\n",
       "      <td>8.279709</td>\n",
       "      <td>68.553577</td>\n",
       "      <td>0.603860</td>\n",
       "    </tr>\n",
       "    <tr>\n",
       "      <th>Naftisol</th>\n",
       "      <td>54.331565</td>\n",
       "      <td>52.509285</td>\n",
       "      <td>8.134708</td>\n",
       "      <td>66.173479</td>\n",
       "      <td>0.596466</td>\n",
       "    </tr>\n",
       "    <tr>\n",
       "      <th>Placebo</th>\n",
       "      <td>54.033581</td>\n",
       "      <td>52.288934</td>\n",
       "      <td>7.821003</td>\n",
       "      <td>61.168083</td>\n",
       "      <td>0.581331</td>\n",
       "    </tr>\n",
       "    <tr>\n",
       "      <th>Propriva</th>\n",
       "      <td>52.320930</td>\n",
       "      <td>50.446266</td>\n",
       "      <td>6.622085</td>\n",
       "      <td>43.852013</td>\n",
       "      <td>0.544332</td>\n",
       "    </tr>\n",
       "    <tr>\n",
       "      <th>Ramicane</th>\n",
       "      <td>40.216745</td>\n",
       "      <td>40.673236</td>\n",
       "      <td>4.846308</td>\n",
       "      <td>23.486704</td>\n",
       "      <td>0.320955</td>\n",
       "    </tr>\n",
       "    <tr>\n",
       "      <th>Stelasyn</th>\n",
       "      <td>54.233149</td>\n",
       "      <td>52.431737</td>\n",
       "      <td>7.710419</td>\n",
       "      <td>59.450562</td>\n",
       "      <td>0.573111</td>\n",
       "    </tr>\n",
       "    <tr>\n",
       "      <th>Zoniferol</th>\n",
       "      <td>53.236507</td>\n",
       "      <td>51.818479</td>\n",
       "      <td>6.966589</td>\n",
       "      <td>48.533355</td>\n",
       "      <td>0.516398</td>\n",
       "    </tr>\n",
       "  </tbody>\n",
       "</table>\n",
       "</div>"
      ],
      "text/plain": [
       "              Tumor Volume Mean  tumour_volume_median  tumour_volume_std  \\\n",
       "Drug Regimen                                                               \n",
       "Capomulin             40.675741             41.557809           4.994774   \n",
       "Ceftamin              52.591172             51.776157           6.268188   \n",
       "Infubinol             52.884795             51.820584           6.567243   \n",
       "Ketapril              55.235638             53.698743           8.279709   \n",
       "Naftisol              54.331565             52.509285           8.134708   \n",
       "Placebo               54.033581             52.288934           7.821003   \n",
       "Propriva              52.320930             50.446266           6.622085   \n",
       "Ramicane              40.216745             40.673236           4.846308   \n",
       "Stelasyn              54.233149             52.431737           7.710419   \n",
       "Zoniferol             53.236507             51.818479           6.966589   \n",
       "\n",
       "              tumour_volume_var  tumour_volume_sem  \n",
       "Drug Regimen                                        \n",
       "Capomulin             24.947764           0.329346  \n",
       "Ceftamin              39.290177           0.469821  \n",
       "Infubinol             43.128684           0.492236  \n",
       "Ketapril              68.553577           0.603860  \n",
       "Naftisol              66.173479           0.596466  \n",
       "Placebo               61.168083           0.581331  \n",
       "Propriva              43.852013           0.544332  \n",
       "Ramicane              23.486704           0.320955  \n",
       "Stelasyn              59.450562           0.573111  \n",
       "Zoniferol             48.533355           0.516398  "
      ]
     },
     "execution_count": 111,
     "metadata": {},
     "output_type": "execute_result"
    }
   ],
   "source": [
    "summary_statistics_table_df.rename({'Tumor Volume (mm3)': 'Tumor Volume Mean'}, axis=1, inplace=True)\n",
    "summary_statistics_table_df"
   ]
  },
  {
   "cell_type": "code",
   "execution_count": 112,
   "id": "4e334826",
   "metadata": {},
   "outputs": [
    {
     "data": {
      "text/plain": [
       "Drug Regimen\n",
       "Capomulin    25\n",
       "Ceftamin     25\n",
       "Infubinol    25\n",
       "Ketapril     25\n",
       "Naftisol     25\n",
       "Placebo      25\n",
       "Propriva     24\n",
       "Ramicane     25\n",
       "Stelasyn     24\n",
       "Zoniferol    25\n",
       "Name: Mouse ID, dtype: int64"
      ]
     },
     "execution_count": 112,
     "metadata": {},
     "output_type": "execute_result"
    }
   ],
   "source": [
    "# create a bar plot that shows the number of total mice for each treatment regimen throughout the course of the study.\n",
    "total_mice_per_treatment = merged_data.groupby('Drug Regimen').nunique()['Mouse ID']\n",
    "total_mice_per_treatment"
   ]
  },
  {
   "cell_type": "code",
   "execution_count": 113,
   "id": "40a00bcc",
   "metadata": {},
   "outputs": [
    {
     "data": {
      "image/png": "[encoded data removed]",
      "text/plain": [
       "<Figure size 432x288 with 1 Axes>"
      ]
     },
     "metadata": {
      "needs_background": "light"
     },
     "output_type": "display_data"
    }
   ],
   "source": [
    "graphic_df = total_mice_per_treatment.plot.bar(title='Mice per Drug Regimen')"
   ]
  },
  {
   "cell_type": "code",
   "execution_count": 114,
   "id": "da084d67",
   "metadata": {},
   "outputs": [
    {
     "data": {
      "text/html": [
       "<div>\n",
       "<style scoped>\n",
       "    .dataframe tbody tr th:only-of-type {\n",
       "        vertical-align: middle;\n",
       "    }\n",
       "\n",
       "    .dataframe tbody tr th {\n",
       "        vertical-align: top;\n",
       "    }\n",
       "\n",
       "    .dataframe thead th {\n",
       "        text-align: right;\n",
       "    }\n",
       "</style>\n",
       "<table border=\"1\" class=\"dataframe\">\n",
       "  <thead>\n",
       "    <tr style=\"text-align: right;\">\n",
       "      <th></th>\n",
       "      <th>Mouse ID</th>\n",
       "      <th>Sex</th>\n",
       "      <th>Age_months</th>\n",
       "      <th>Weight (g)</th>\n",
       "      <th>Timepoint</th>\n",
       "      <th>Tumor Volume (mm3)</th>\n",
       "      <th>Metastatic Sites</th>\n",
       "    </tr>\n",
       "    <tr>\n",
       "      <th>Drug Regimen</th>\n",
       "      <th></th>\n",
       "      <th></th>\n",
       "      <th></th>\n",
       "      <th></th>\n",
       "      <th></th>\n",
       "      <th></th>\n",
       "      <th></th>\n",
       "    </tr>\n",
       "  </thead>\n",
       "  <tbody>\n",
       "    <tr>\n",
       "      <th>Capomulin</th>\n",
       "      <td>25</td>\n",
       "      <td>2</td>\n",
       "      <td>15</td>\n",
       "      <td>9</td>\n",
       "      <td>10</td>\n",
       "      <td>206</td>\n",
       "      <td>4</td>\n",
       "    </tr>\n",
       "    <tr>\n",
       "      <th>Ceftamin</th>\n",
       "      <td>25</td>\n",
       "      <td>2</td>\n",
       "      <td>15</td>\n",
       "      <td>6</td>\n",
       "      <td>10</td>\n",
       "      <td>154</td>\n",
       "      <td>5</td>\n",
       "    </tr>\n",
       "    <tr>\n",
       "      <th>Infubinol</th>\n",
       "      <td>25</td>\n",
       "      <td>2</td>\n",
       "      <td>15</td>\n",
       "      <td>7</td>\n",
       "      <td>10</td>\n",
       "      <td>154</td>\n",
       "      <td>5</td>\n",
       "    </tr>\n",
       "    <tr>\n",
       "      <th>Ketapril</th>\n",
       "      <td>25</td>\n",
       "      <td>2</td>\n",
       "      <td>15</td>\n",
       "      <td>6</td>\n",
       "      <td>10</td>\n",
       "      <td>164</td>\n",
       "      <td>5</td>\n",
       "    </tr>\n",
       "    <tr>\n",
       "      <th>Naftisol</th>\n",
       "      <td>25</td>\n",
       "      <td>2</td>\n",
       "      <td>14</td>\n",
       "      <td>6</td>\n",
       "      <td>10</td>\n",
       "      <td>162</td>\n",
       "      <td>5</td>\n",
       "    </tr>\n",
       "    <tr>\n",
       "      <th>Placebo</th>\n",
       "      <td>25</td>\n",
       "      <td>2</td>\n",
       "      <td>18</td>\n",
       "      <td>6</td>\n",
       "      <td>10</td>\n",
       "      <td>157</td>\n",
       "      <td>5</td>\n",
       "    </tr>\n",
       "    <tr>\n",
       "      <th>Propriva</th>\n",
       "      <td>24</td>\n",
       "      <td>2</td>\n",
       "      <td>14</td>\n",
       "      <td>6</td>\n",
       "      <td>10</td>\n",
       "      <td>125</td>\n",
       "      <td>5</td>\n",
       "    </tr>\n",
       "    <tr>\n",
       "      <th>Ramicane</th>\n",
       "      <td>25</td>\n",
       "      <td>2</td>\n",
       "      <td>15</td>\n",
       "      <td>9</td>\n",
       "      <td>10</td>\n",
       "      <td>204</td>\n",
       "      <td>4</td>\n",
       "    </tr>\n",
       "    <tr>\n",
       "      <th>Stelasyn</th>\n",
       "      <td>24</td>\n",
       "      <td>2</td>\n",
       "      <td>14</td>\n",
       "      <td>6</td>\n",
       "      <td>10</td>\n",
       "      <td>158</td>\n",
       "      <td>5</td>\n",
       "    </tr>\n",
       "    <tr>\n",
       "      <th>Zoniferol</th>\n",
       "      <td>25</td>\n",
       "      <td>2</td>\n",
       "      <td>14</td>\n",
       "      <td>6</td>\n",
       "      <td>10</td>\n",
       "      <td>158</td>\n",
       "      <td>5</td>\n",
       "    </tr>\n",
       "  </tbody>\n",
       "</table>\n",
       "</div>"
      ],
      "text/plain": [
       "              Mouse ID  Sex  Age_months  Weight (g)  Timepoint  \\\n",
       "Drug Regimen                                                     \n",
       "Capomulin           25    2          15           9         10   \n",
       "Ceftamin            25    2          15           6         10   \n",
       "Infubinol           25    2          15           7         10   \n",
       "Ketapril            25    2          15           6         10   \n",
       "Naftisol            25    2          14           6         10   \n",
       "Placebo             25    2          18           6         10   \n",
       "Propriva            24    2          14           6         10   \n",
       "Ramicane            25    2          15           9         10   \n",
       "Stelasyn            24    2          14           6         10   \n",
       "Zoniferol           25    2          14           6         10   \n",
       "\n",
       "              Tumor Volume (mm3)  Metastatic Sites  \n",
       "Drug Regimen                                        \n",
       "Capomulin                    206                 4  \n",
       "Ceftamin                     154                 5  \n",
       "Infubinol                    154                 5  \n",
       "Ketapril                     164                 5  \n",
       "Naftisol                     162                 5  \n",
       "Placebo                      157                 5  \n",
       "Propriva                     125                 5  \n",
       "Ramicane                     204                 4  \n",
       "Stelasyn                     158                 5  \n",
       "Zoniferol                    158                 5  "
      ]
     },
     "execution_count": 114,
     "metadata": {},
     "output_type": "execute_result"
    }
   ],
   "source": [
    "total_mice = merged_data.groupby(['Drug Regimen']).nunique('Mouse ID')\n",
    "total_mice "
   ]
  },
  {
   "cell_type": "code",
   "execution_count": 115,
   "id": "3c3a6e61",
   "metadata": {},
   "outputs": [
    {
     "data": {
      "text/plain": [
       "Sex\n",
       "Female    123\n",
       "Male      125\n",
       "Name: Mouse ID, dtype: int64"
      ]
     },
     "execution_count": 115,
     "metadata": {},
     "output_type": "execute_result"
    }
   ],
   "source": [
    "total_mice_per_sex = merged_data.groupby('Sex').nunique()['Mouse ID']\n",
    "total_mice_per_sex"
   ]
  },
  {
   "cell_type": "code",
   "execution_count": 116,
   "id": "14e8bdb8",
   "metadata": {},
   "outputs": [
    {
     "data": {
      "image/png": "[encoded data removed]",
      "text/plain": [
       "<Figure size 432x288 with 1 Axes>"
      ]
     },
     "metadata": {},
     "output_type": "display_data"
    }
   ],
   "source": [
    "#Generate a pie plot that shows the distribution of female or male mice in the study.\n",
    "total_mice_per_sex.plot.pie(title='Mice per sex', labels=[\"Male\",\"Female\"],  autopct='%.2f')\n",
    "plt.show()"
   ]
  },
  {
   "cell_type": "code",
   "execution_count": 117,
   "id": "15c1da62",
   "metadata": {},
   "outputs": [],
   "source": [
    "#Calculate the final tumour volume of each mouse and get the last (greatest) timepoint for each mouse\n",
    "final_tumour_each_mouse = merged_data.groupby('Mouse ID').max()['Timepoint']\n",
    "final_tumour_each_mouse_df=pd.DataFrame(final_tumour_each_mouse)"
   ]
  },
  {
   "cell_type": "code",
   "execution_count": 118,
   "id": "caac19a5",
   "metadata": {},
   "outputs": [
    {
     "data": {
      "text/html": [
       "<div>\n",
       "<style scoped>\n",
       "    .dataframe tbody tr th:only-of-type {\n",
       "        vertical-align: middle;\n",
       "    }\n",
       "\n",
       "    .dataframe tbody tr th {\n",
       "        vertical-align: top;\n",
       "    }\n",
       "\n",
       "    .dataframe thead th {\n",
       "        text-align: right;\n",
       "    }\n",
       "</style>\n",
       "<table border=\"1\" class=\"dataframe\">\n",
       "  <thead>\n",
       "    <tr style=\"text-align: right;\">\n",
       "      <th></th>\n",
       "      <th>Mouse ID</th>\n",
       "      <th>Timepoint</th>\n",
       "      <th>Drug Regimen</th>\n",
       "      <th>Sex</th>\n",
       "      <th>Age_months</th>\n",
       "      <th>Weight (g)</th>\n",
       "      <th>Tumor Volume (mm3)</th>\n",
       "      <th>Metastatic Sites</th>\n",
       "    </tr>\n",
       "  </thead>\n",
       "  <tbody>\n",
       "    <tr>\n",
       "      <th>0</th>\n",
       "      <td>a203</td>\n",
       "      <td>45</td>\n",
       "      <td>Infubinol</td>\n",
       "      <td>Female</td>\n",
       "      <td>20</td>\n",
       "      <td>23</td>\n",
       "      <td>67.973419</td>\n",
       "      <td>2</td>\n",
       "    </tr>\n",
       "    <tr>\n",
       "      <th>1</th>\n",
       "      <td>a251</td>\n",
       "      <td>45</td>\n",
       "      <td>Infubinol</td>\n",
       "      <td>Female</td>\n",
       "      <td>21</td>\n",
       "      <td>25</td>\n",
       "      <td>65.525743</td>\n",
       "      <td>1</td>\n",
       "    </tr>\n",
       "    <tr>\n",
       "      <th>2</th>\n",
       "      <td>a262</td>\n",
       "      <td>45</td>\n",
       "      <td>Placebo</td>\n",
       "      <td>Female</td>\n",
       "      <td>17</td>\n",
       "      <td>29</td>\n",
       "      <td>70.717621</td>\n",
       "      <td>4</td>\n",
       "    </tr>\n",
       "    <tr>\n",
       "      <th>3</th>\n",
       "      <td>a275</td>\n",
       "      <td>45</td>\n",
       "      <td>Ceftamin</td>\n",
       "      <td>Female</td>\n",
       "      <td>20</td>\n",
       "      <td>28</td>\n",
       "      <td>62.999356</td>\n",
       "      <td>3</td>\n",
       "    </tr>\n",
       "    <tr>\n",
       "      <th>4</th>\n",
       "      <td>a366</td>\n",
       "      <td>30</td>\n",
       "      <td>Stelasyn</td>\n",
       "      <td>Female</td>\n",
       "      <td>16</td>\n",
       "      <td>29</td>\n",
       "      <td>63.440686</td>\n",
       "      <td>1</td>\n",
       "    </tr>\n",
       "  </tbody>\n",
       "</table>\n",
       "</div>"
      ],
      "text/plain": [
       "  Mouse ID  Timepoint Drug Regimen     Sex  Age_months  Weight (g)  \\\n",
       "0     a203         45    Infubinol  Female          20          23   \n",
       "1     a251         45    Infubinol  Female          21          25   \n",
       "2     a262         45      Placebo  Female          17          29   \n",
       "3     a275         45     Ceftamin  Female          20          28   \n",
       "4     a366         30     Stelasyn  Female          16          29   \n",
       "\n",
       "   Tumor Volume (mm3)  Metastatic Sites  \n",
       "0           67.973419                 2  \n",
       "1           65.525743                 1  \n",
       "2           70.717621                 4  \n",
       "3           62.999356                 3  \n",
       "4           63.440686                 1  "
      ]
     },
     "execution_count": 118,
     "metadata": {},
     "output_type": "execute_result"
    }
   ],
   "source": [
    "#get two data together\n",
    "combine_final_data_df = pd.merge(final_tumour_each_mouse_df, merged_data, on=('Mouse ID','Timepoint'))\n",
    "combine_final_data_df.head()"
   ]
  },
  {
   "cell_type": "code",
   "execution_count": 119,
   "id": "d6580301",
   "metadata": {},
   "outputs": [],
   "source": [
    "#Calculate the final tumour volume of each mouse across four of the most promising treatment regimens\n",
    "\n",
    "Final_tumourvolume_Capomulin = combine_final_data_df.loc[combine_final_data_df[\"Drug Regimen\"]==\"Capomulin\"]\n",
    "Final_tumourvolume_Ramicane = combine_final_data_df.loc[combine_final_data_df[\"Drug Regimen\"]==\"Ramicane\"]\n",
    "Final_tumourvolume_Infubinol = combine_final_data_df.loc[combine_final_data_df[\"Drug Regimen\"]==\"Infubinol\"]\n",
    "Final_tumourvolume_Ceftamin = combine_final_data_df.loc[combine_final_data_df[\"Drug Regimen\"]==\"Ceftamin\"]\n",
    "\n",
    "tumourvolume_Capomulin = Final_tumourvolume_Capomulin['Tumor Volume (mm3)']\n",
    "tumourvolume_Ramicane = Final_tumourvolume_Ramicane['Tumor Volume (mm3)']\n",
    "tumourvolume_Infubinol = Final_tumourvolume_Infubinol['Tumor Volume (mm3)']\n",
    "tumourvolume_Ceftamin = Final_tumourvolume_Ceftamin['Tumor Volume (mm3)']"
   ]
  },
  {
   "cell_type": "code",
   "execution_count": 120,
   "id": "47ff2610",
   "metadata": {},
   "outputs": [],
   "source": [
    "#Calculate the quartiles and IQR and quantitatively determine if there are any potential outliers across all four treatment regimens.\n",
    "\n",
    "Capomulin_quartiles=tumourvolume_Capomulin.quantile([.25,.75])\n",
    "Ramicane_quartiles=tumourvolume_Ramicane.quantile([.25,.75])\n",
    "Infubinol_quartiles=tumourvolume_Infubinol.quantile([.25,.75])\n",
    "Ceftamin_quartiles=tumourvolume_Ceftamin.quantile([.25,.75])\n",
    "\n",
    "Capomulin1=Capomulin_quartiles[.25]\n",
    "Ramicane1=Ramicane_quartiles[.25]\n",
    "Infubinol1=Infubinol_quartiles[.25]\n",
    "Ceftamin1=Ceftamin_quartiles[.25]\n",
    "\n",
    "Capomulin2=Capomulin_quartiles[.75]\n",
    "Ramicane2=Ramicane_quartiles[.75]\n",
    "Infubinol2=Infubinol_quartiles[.75]\n",
    "Ceftamin2=Ceftamin_quartiles[.75]\n",
    "\n",
    "#IQR\n",
    "\n",
    "IQR_Capomulin = Capomulin2-Capomulin1\n",
    "IQR_Ramicane = Ramicane2-Ramicane1\n",
    "IQR_Infubinol = Infubinol2-Infubinol1\n",
    "IQR_Ceftamin = Ceftamin2-Ceftamin1\n",
    "\n",
    "# Determine upper and lower bounds\n",
    "Lower_Capomulin = Capomulin1-(IQR_Capomulin*1.5)\n",
    "Lower_Ramicane = Ramicane1-(IQR_Ramicane*1.5)\n",
    "Lower_Infubinol = Infubinol1-(IQR_Infubinol*1.5)\n",
    "Lower_Ceftamin = Ceftamin1-(IQR_Ceftamin*1.5)\n",
    "\n",
    "Upper_Capomuli=Capomulin2+(IQR_Capomulin*1.5)\n",
    "Upper_Ramicane=Ramicane2+(IQR_Capomulin*1.5)\n",
    "Upper_Infubinol=Infubinol2+(IQR_Capomulin*1.5)\n",
    "Upper_Ceftamin=Ceftamin2+(IQR_Capomulin*1.5)\n"
   ]
  },
  {
   "cell_type": "code",
   "execution_count": 121,
   "id": "551f9f21",
   "metadata": {},
   "outputs": [
    {
     "data": {
      "text/html": [
       "<div>\n",
       "<style scoped>\n",
       "    .dataframe tbody tr th:only-of-type {\n",
       "        vertical-align: middle;\n",
       "    }\n",
       "\n",
       "    .dataframe tbody tr th {\n",
       "        vertical-align: top;\n",
       "    }\n",
       "\n",
       "    .dataframe thead th {\n",
       "        text-align: right;\n",
       "    }\n",
       "</style>\n",
       "<table border=\"1\" class=\"dataframe\">\n",
       "  <thead>\n",
       "    <tr style=\"text-align: right;\">\n",
       "      <th></th>\n",
       "      <th>Quartile_Capomulin1</th>\n",
       "      <th>Quartile_Ramicane1</th>\n",
       "      <th>Quartile_Infubinol1</th>\n",
       "      <th>Quartile_Ceftamin1</th>\n",
       "      <th>Quartile_Capomulin2</th>\n",
       "      <th>Quartile_Ramicane2</th>\n",
       "      <th>Quartile_Infubinol2</th>\n",
       "      <th>Quartile_Ceftamin2</th>\n",
       "      <th>IQR_Capomulin</th>\n",
       "      <th>IQR_Ramicane</th>\n",
       "      <th>IQR_Infubinol</th>\n",
       "      <th>IQR_Ceftamin</th>\n",
       "    </tr>\n",
       "  </thead>\n",
       "  <tbody>\n",
       "    <tr>\n",
       "      <th>0</th>\n",
       "      <td>32.377357</td>\n",
       "      <td>31.56047</td>\n",
       "      <td>54.048608</td>\n",
       "      <td>48.722078</td>\n",
       "      <td>40.15922</td>\n",
       "      <td>40.659006</td>\n",
       "      <td>65.525743</td>\n",
       "      <td>64.29983</td>\n",
       "      <td>7.781863</td>\n",
       "      <td>9.098537</td>\n",
       "      <td>11.477135</td>\n",
       "      <td>15.577752</td>\n",
       "    </tr>\n",
       "  </tbody>\n",
       "</table>\n",
       "</div>"
      ],
      "text/plain": [
       "   Quartile_Capomulin1  Quartile_Ramicane1  Quartile_Infubinol1  \\\n",
       "0            32.377357            31.56047            54.048608   \n",
       "\n",
       "   Quartile_Ceftamin1  Quartile_Capomulin2  Quartile_Ramicane2  \\\n",
       "0           48.722078             40.15922           40.659006   \n",
       "\n",
       "   Quartile_Infubinol2  Quartile_Ceftamin2  IQR_Capomulin  IQR_Ramicane  \\\n",
       "0            65.525743            64.29983       7.781863      9.098537   \n",
       "\n",
       "   IQR_Infubinol  IQR_Ceftamin  \n",
       "0      11.477135     15.577752  "
      ]
     },
     "execution_count": 121,
     "metadata": {},
     "output_type": "execute_result"
    }
   ],
   "source": [
    "#If I want to create a table\n",
    "\n",
    "summary_table = pd.DataFrame({\n",
    "    \"Quartile_Capomulin1\":[Capomulin1],\n",
    "    \"Quartile_Ramicane1\":[Ramicane1],\n",
    "    \"Quartile_Infubinol1\":[Infubinol1],\n",
    "    \"Quartile_Ceftamin1\":[Ceftamin1],\n",
    "    \n",
    "    \"Quartile_Capomulin2\":[Capomulin2],\n",
    "    \"Quartile_Ramicane2\":[Ramicane2],\n",
    "    \"Quartile_Infubinol2\":[Infubinol2],\n",
    "    \"Quartile_Ceftamin2\":[Ceftamin2],\n",
    "    \n",
    "    \"IQR_Capomulin\":[IQR_Capomulin],\n",
    "    \"IQR_Ramicane\":[IQR_Ramicane],\n",
    "    \"IQR_Infubinol\":[IQR_Infubinol],\n",
    "    \"IQR_Ceftamin\":[IQR_Ceftamin],\n",
    "    \n",
    "})\n",
    "summary_table"
   ]
  },
  {
   "cell_type": "code",
   "execution_count": 122,
   "id": "4215713a",
   "metadata": {},
   "outputs": [
    {
     "data": {
      "image/png": "[encoded data removed]",
      "text/plain": [
       "<Figure size 432x288 with 1 Axes>"
      ]
     },
     "metadata": {
      "needs_background": "light"
     },
     "output_type": "display_data"
    }
   ],
   "source": [
    "#Create box plot for each of the four regimens of interest\n",
    "\n",
    "#Capomulin\n",
    "fig1, ax1 = plt.subplots()\n",
    "ax1.set_title('Capomulin Regimen')\n",
    "ax1.set_ylabel('Final Tumor Volume')\n",
    "ax1.boxplot(tumourvolume_Capomulin)\n",
    "plt.show()"
   ]
  },
  {
   "cell_type": "code",
   "execution_count": 123,
   "id": "58dab23f",
   "metadata": {},
   "outputs": [
    {
     "data": {
      "image/png": "[encoded data removed]",
      "text/plain": [
       "<Figure size 432x288 with 1 Axes>"
      ]
     },
     "metadata": {
      "needs_background": "light"
     },
     "output_type": "display_data"
    }
   ],
   "source": [
    "#Ramicane\n",
    "fig1, ax1 = plt.subplots()\n",
    "ax1.set_title('Ramicane Regimen')\n",
    "ax1.set_ylabel('Final Tumor Volume')\n",
    "ax1.boxplot(tumourvolume_Ramicane)\n",
    "plt.show()"
   ]
  },
  {
   "cell_type": "code",
   "execution_count": 124,
   "id": "8d935105",
   "metadata": {},
   "outputs": [
    {
     "data": {
      "image/png": "[encoded data removed]",
      "text/plain": [
       "<Figure size 432x288 with 1 Axes>"
      ]
     },
     "metadata": {
      "needs_background": "light"
     },
     "output_type": "display_data"
    }
   ],
   "source": [
    "#Infubinol\n",
    "fig1, ax1 = plt.subplots()\n",
    "ax1.set_title('Infubinol Regimen')\n",
    "ax1.set_ylabel('Final Tumor Volume')\n",
    "ax1.boxplot(tumourvolume_Infubinol)\n",
    "plt.show()"
   ]
  },
  {
   "cell_type": "code",
   "execution_count": 125,
   "id": "f2afe2e5",
   "metadata": {},
   "outputs": [
    {
     "data": {
      "image/png": "[encoded data removed]",
      "text/plain": [
       "<Figure size 432x288 with 1 Axes>"
      ]
     },
     "metadata": {
      "needs_background": "light"
     },
     "output_type": "display_data"
    }
   ],
   "source": [
    "#Ceftamin\n",
    "fig1, ax1 = plt.subplots()\n",
    "ax1.set_title('Ceftamin Regimen')\n",
    "ax1.set_ylabel('Final Tumor Volume')\n",
    "ax1.boxplot(tumourvolume_Ceftamin)\n",
    "plt.show()"
   ]
  },
  {
   "cell_type": "code",
   "execution_count": 126,
   "id": "5caf5c18",
   "metadata": {},
   "outputs": [
    {
     "data": {
      "text/plain": [
       "Text(0.5, 1.0, 'Capomulin Regimen')"
      ]
     },
     "execution_count": 126,
     "metadata": {},
     "output_type": "execute_result"
    },
    {
     "data": {
      "image/png": "[encoded data removed]",
      "text/plain": [
       "<Figure size 432x288 with 1 Axes>"
      ]
     },
     "metadata": {
      "needs_background": "light"
     },
     "output_type": "display_data"
    }
   ],
   "source": [
    "# Generate a line plot of time point versus tumor volume for a mouse treated with Capomulin\n",
    "\n",
    "#Capomulin_mouse = merged_data.loc[merged_data['Drug Regimen']==\"Capomulin\"]\n",
    "Capomulin_mouse = merged_data.loc[merged_data['Mouse ID']==\"s185\"]\n",
    "\n",
    "plt.plot(Capomulin_mouse['Timepoint'],Capomulin_mouse['Tumor Volume (mm3)'], label=\"tumor volume\")\n",
    "plt.xlabel('Timepoint')\n",
    "plt.ylabel('Tumor Volume')\n",
    "plt.title('Capomulin Regimen')"
   ]
  },
  {
   "cell_type": "code",
   "execution_count": 127,
   "id": "c1e63723",
   "metadata": {},
   "outputs": [],
   "source": [
    "# mouse_Capomulin_df=merged_data.loc[merged_data[\"Mouse ID\"]==\"int25\"]\n",
    "# timepoint=mouse_Capomulin_df['Timepoint']\n",
    "# tumorvolume=mouse_Capomulin_df['Tumor Volume (mm3)']\n",
    "\n",
    "# plt.plot(timepoint, tumorvolume, label=\"tumor volume\")\n",
    "# plt.xlabel('Timepoint')\n",
    "# plt.ylabel('Tumor Volume')\n",
    "# plt.title('Capomulin Regimen')"
   ]
  },
  {
   "cell_type": "code",
   "execution_count": 128,
   "id": "a7d0b55b",
   "metadata": {},
   "outputs": [
    {
     "data": {
      "image/png": "[encoded data removed]",
      "text/plain": [
       "<Figure size 432x288 with 1 Axes>"
      ]
     },
     "metadata": {
      "needs_background": "light"
     },
     "output_type": "display_data"
    }
   ],
   "source": [
    "# scatter plot of mouse weight versus average tumour volume for the Capomulin treatment regimen.\n",
    "\n",
    "weight_mouse = merged_data.loc[merged_data['Drug Regimen']==\"Capomulin\"]\n",
    "avg_mouse = weight_mouse.groupby('Mouse ID').mean()\n",
    "\n",
    "plt.scatter(avg_mouse['Weight (g)'],avg_mouse['Tumor Volume (mm3)'])\n",
    "plt.show()"
   ]
  },
  {
   "cell_type": "code",
   "execution_count": 129,
   "id": "9f32d896",
   "metadata": {},
   "outputs": [
    {
     "data": {
      "text/plain": [
       "(0.8419363424694721, 1.3225722434712388e-07)"
      ]
     },
     "execution_count": 129,
     "metadata": {},
     "output_type": "execute_result"
    }
   ],
   "source": [
    "#calculatr the correlation coefficient between mouse weight and average tumour volume for the Capomulin treatment\n",
    "st.pearsonr(avg_mouse['Weight (g)'], avg_mouse['Tumor Volume (mm3)'])\n"
   ]
  },
  {
   "cell_type": "code",
   "execution_count": 132,
   "id": "2aa4b3d8",
   "metadata": {},
   "outputs": [],
   "source": [
    "#Generate correlation matrix and find the strongest positive and negative correlations\n",
    "\n",
    "# df = pd.DataFrame(avg_mouse.corr().unstack().sort_values()).rename(columns={0:\"r\"})\n",
    "# df.head()\n",
    "# df[df[\"r\"]<1]"
   ]
  },
  {
   "cell_type": "code",
   "execution_count": 135,
   "id": "3a8eca75",
   "metadata": {},
   "outputs": [
    {
     "data": {
      "image/png": "[encoded data removed]",
      "text/plain": [
       "<Figure size 432x288 with 1 Axes>"
      ]
     },
     "metadata": {
      "needs_background": "light"
     },
     "output_type": "display_data"
    }
   ],
   "source": [
    "#Calculate the correlation coefficient and linear regression model between mouse weight and average tumour volume for the Capomulin tr\n",
    "\n",
    "x_values = avg_mouse['Weight (g)']\n",
    "y_values = avg_mouse['Tumor Volume (mm3)']\n",
    "plt.scatter(x_values, y_values)\n",
    "plt.xlabel('Weight')\n",
    "plt.ylabel('average tumour')\n",
    "plt.show()"
   ]
  },
  {
   "cell_type": "code",
   "execution_count": 141,
   "id": "e24eaf62",
   "metadata": {},
   "outputs": [],
   "source": [
    "(slope, intercept, rvalue, pvalue, stderr)= linregress(x_values, y_values)"
   ]
  },
  {
   "cell_type": "code",
   "execution_count": 142,
   "id": "a76cc265",
   "metadata": {},
   "outputs": [
    {
     "data": {
      "image/png": "[encoded data removed]",
      "text/plain": [
       "<Figure size 432x288 with 1 Axes>"
      ]
     },
     "metadata": {
      "needs_background": "light"
     },
     "output_type": "display_data"
    }
   ],
   "source": [
    "x_values = avg_mouse['Weight (g)']\n",
    "y_values = avg_mouse['Tumor Volume (mm3)']\n",
    "(slope, intercept, rvalue, pvalue, stderr)= linregress(x_values, y_values)\n",
    "regress_values = x_values * slope + intercept\n",
    "line_eq = \"y =\" + str(round(slope,2)) + \"x + \" + str(round(intercept,2))\n",
    "plt.scatter(x_values, y_values)\n",
    "plt.plot(x_values, regress_values, \"r-\")\n",
    "plt.annotate(line_eq,(6, 10), fontsize=15,color=\"red\")\n",
    "plt.xlabel('Weight')\n",
    "plt.ylabel('average tumour')\n",
    "plt.show()"
   ]
  },
  {
   "cell_type": "code",
   "execution_count": null,
   "id": "b23a403f",
   "metadata": {},
   "outputs": [],
   "source": []
  }
 ],
 "metadata": {
  "kernelspec": {
   "display_name": "Python [conda env:PythonData] *",
   "language": "python",
   "name": "conda-env-PythonData-py"
  },
  "language_info": {
   "codemirror_mode": {
    "name": "ipython",
    "version": 3
   },
   "file_extension": ".py",
   "mimetype": "text/x-python",
   "name": "python",
   "nbconvert_exporter": "python",
   "pygments_lexer": "ipython3",
   "version": "3.7.11"
  }
 },
 "nbformat": 4,
 "nbformat_minor": 5
}
